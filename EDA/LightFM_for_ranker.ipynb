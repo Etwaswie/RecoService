{
  "cells": [
    {
      "cell_type": "markdown",
      "metadata": {
        "id": "e-7t2Od17OdB"
      },
      "source": [
        "# Обучение lightfm"
      ]
    },
    {
      "cell_type": "code",
      "execution_count": 1,
      "metadata": {
        "colab": {
          "base_uri": "https://localhost:8080/"
        },
        "id": "dKId_m4r6_F8",
        "outputId": "ebf6298e-9f2e-476c-d4ef-4cb8c4a47c8c"
      },
      "outputs": [
        {
          "output_type": "stream",
          "name": "stdout",
          "text": [
            "\u001b[2K     \u001b[90m━━━━━━━━━━━━━━━━━━━━━━━━━━━━━━━━━━━━━━━━\u001b[0m \u001b[32m102.5/102.5 kB\u001b[0m \u001b[31m891.0 kB/s\u001b[0m eta \u001b[36m0:00:00\u001b[0m\n",
            "\u001b[2K     \u001b[90m━━━━━━━━━━━━━━━━━━━━━━━━━━━━━━━━━━━━━━━━\u001b[0m \u001b[32m8.9/8.9 MB\u001b[0m \u001b[31m24.1 MB/s\u001b[0m eta \u001b[36m0:00:00\u001b[0m\n",
            "\u001b[2K     \u001b[90m━━━━━━━━━━━━━━━━━━━━━━━━━━━━━━━━━━━━━━━━\u001b[0m \u001b[32m316.4/316.4 kB\u001b[0m \u001b[31m2.5 MB/s\u001b[0m eta \u001b[36m0:00:00\u001b[0m\n",
            "\u001b[?25h  Preparing metadata (setup.py) ... \u001b[?25l\u001b[?25hdone\n",
            "  Building wheel for lightfm (setup.py) ... \u001b[?25l\u001b[?25hdone\n"
          ]
        }
      ],
      "source": [
        "!pip -q install rectools==0.4.2\n",
        "!pip -q install lightfm"
      ]
    },
    {
      "cell_type": "code",
      "execution_count": 2,
      "metadata": {
        "id": "jwo9DCoG7XDz"
      },
      "outputs": [],
      "source": [
        "import warnings\n",
        "\n",
        "warnings.filterwarnings(\"ignore\")"
      ]
    },
    {
      "cell_type": "code",
      "execution_count": 3,
      "metadata": {
        "id": "P96m2yLc7Y6h"
      },
      "outputs": [],
      "source": [
        "import pickle\n",
        "import typing as tp\n",
        "from pathlib import Path\n",
        "\n",
        "import matplotlib.pyplot as plt\n",
        "import numpy as np\n",
        "import pandas as pd\n",
        "import seaborn as sns\n",
        "from lightfm import LightFM\n",
        "from rectools import Columns\n",
        "from rectools.dataset import Dataset\n",
        "from rectools.metrics import (\n",
        "    MAP,\n",
        "    NDCG,\n",
        "    MeanInvUserFreq,\n",
        "    Precision,\n",
        "    Recall,\n",
        "    Serendipity,\n",
        "    calc_metrics,\n",
        ")\n",
        "from rectools.model_selection import TimeRangeSplitter, cross_validate\n",
        "from rectools.models import LightFMWrapperModel, PopularModel\n",
        "from tqdm import tqdm\n",
        "import requests"
      ]
    },
    {
      "cell_type": "markdown",
      "metadata": {
        "id": "twsVRfXL7aUH"
      },
      "source": [
        "# Загружаем данные"
      ]
    },
    {
      "cell_type": "code",
      "execution_count": null,
      "metadata": {
        "id": "aUwH0CYw7c7X",
        "colab": {
          "base_uri": "https://localhost:8080/"
        },
        "outputId": "0eb8f46e-8aec-4839-d37e-7316d594a3ea"
      },
      "outputs": [
        {
          "output_type": "stream",
          "name": "stderr",
          "text": [
            "Downloading the kion dataset...:  98%|█████████▊| 77.6M/78.8M [00:01<00:00, 130MiB/s]"
          ]
        }
      ],
      "source": [
        "url = 'https://github.com/irsafilo/KION_DATASET/raw/f69775be31fa5779907cf0a92ddedb70037fb5ae/data_original.zip'\n",
        "req = requests.get(url, stream=True)\n",
        "\n",
        "with open('kion_train.zip', \"wb\") as fd:\n",
        "    total_size_in_bytes = int(req.headers.get('Content-Length', 0))\n",
        "    progress_bar = tqdm(desc='Downloading the kion dataset...',\n",
        "                        total=total_size_in_bytes,\n",
        "                        unit='iB', unit_scale=True)\n",
        "    for chunk in req.iter_content(chunk_size=2 ** 20):\n",
        "        progress_bar.update(len(chunk))\n",
        "        fd.write(chunk)"
      ]
    },
    {
      "cell_type": "code",
      "source": [
        "!unzip kion_train.zip -x '__MACOSX/*'"
      ],
      "metadata": {
        "colab": {
          "base_uri": "https://localhost:8080/"
        },
        "id": "M0jJJ_SRKhIf",
        "outputId": "19fc38a0-0ae6-44b5-e636-f64ca1e5b53a"
      },
      "execution_count": null,
      "outputs": [
        {
          "output_type": "stream",
          "name": "stdout",
          "text": [
            "Archive:  kion_train.zip\n",
            "   creating: data_original/\n",
            "  inflating: data_original/interactions.csv  \n",
            "  inflating: data_original/users.csv  \n",
            "  inflating: data_original/items.csv  \n"
          ]
        }
      ]
    },
    {
      "cell_type": "code",
      "source": [
        "interactions = pd.read_csv('data_original/interactions.csv')\n",
        "users = pd.read_csv('data_original/users.csv')\n",
        "items = pd.read_csv('data_original/items.csv')"
      ],
      "metadata": {
        "id": "O_uMBY8MKtve"
      },
      "execution_count": null,
      "outputs": []
    },
    {
      "cell_type": "code",
      "execution_count": null,
      "metadata": {
        "id": "dkYp54Mf7gxv"
      },
      "outputs": [],
      "source": [
        "Columns.Datetime = \"last_watch_dt\"\n",
        "interactions.drop(interactions[interactions[Columns.Datetime].str.len() != 10].index, inplace=True)\n",
        "interactions[Columns.Datetime] = pd.to_datetime(interactions[Columns.Datetime], format=\"%Y-%m-%d\")\n",
        "max_date = interactions[Columns.Datetime].max()\n",
        "interactions[Columns.Weight] = np.where(interactions[\"watched_pct\"] > 10, 3, 1)"
      ]
    },
    {
      "cell_type": "code",
      "execution_count": null,
      "metadata": {
        "colab": {
          "base_uri": "https://localhost:8080/"
        },
        "id": "9g24olmy7kjH",
        "outputId": "b0958750-cb86-4db9-a574-14578ec34a38"
      },
      "outputs": [
        {
          "output_type": "stream",
          "name": "stdout",
          "text": [
            "train: (3832711, 6)\n",
            "test: (333026, 6)\n"
          ]
        }
      ],
      "source": [
        "train = interactions[interactions[Columns.Datetime] < max_date - pd.Timedelta(days=7)].copy()\n",
        "test = interactions[interactions[Columns.Datetime] >= max_date - pd.Timedelta(days=7)].copy()\n",
        "\n",
        "train.drop(train.query(\"total_dur < 300\").index, inplace=True)\n",
        "\n",
        "cold_users = set(test[Columns.User]) - set(train[Columns.User])\n",
        "test.drop(test[test[Columns.User].isin(cold_users)].index, inplace=True)\n",
        "\n",
        "TEST_USERS = test[Columns.User].unique()\n",
        "\n",
        "print(f\"train: {train.shape}\")\n",
        "print(f\"test: {test.shape}\")"
      ]
    },
    {
      "cell_type": "markdown",
      "metadata": {
        "id": "7rI1mo-4uOfj"
      },
      "source": [
        "# Готовим фичи"
      ]
    },
    {
      "cell_type": "code",
      "execution_count": null,
      "metadata": {
        "execution": {
          "iopub.execute_input": "2023-11-29T06:54:13.548063Z",
          "iopub.status.busy": "2023-11-29T06:54:13.547063Z",
          "iopub.status.idle": "2023-11-29T06:54:13.862063Z",
          "shell.execute_reply": "2023-11-29T06:54:13.862063Z",
          "shell.execute_reply.started": "2023-11-29T06:54:13.548063Z"
        },
        "id": "K3F_39HFuOfj"
      },
      "outputs": [],
      "source": [
        "def get_user_features(users: pd.DataFrame, interactions: pd.DataFrame, features: tp.List[str]):\n",
        "    users.fillna(\"Unknown\", inplace=True)\n",
        "    users = users.loc[users[Columns.User].isin(interactions[Columns.User])].copy()\n",
        "    user_features_frames = []\n",
        "    for feature in features:\n",
        "        feature_frame = users.reindex(columns=[Columns.User, feature])\n",
        "        feature_frame.columns = [\"id\", \"value\"]\n",
        "        feature_frame[\"feature\"] = feature\n",
        "        user_features_frames.append(feature_frame)\n",
        "    user_features = pd.concat(user_features_frames)\n",
        "    return user_features"
      ]
    },
    {
      "cell_type": "code",
      "execution_count": null,
      "metadata": {
        "id": "eDlXPQeH7945"
      },
      "outputs": [],
      "source": [
        "user_features = get_user_features(users, train, [\"sex\", \"age\", \"income\"])"
      ]
    },
    {
      "cell_type": "code",
      "execution_count": null,
      "metadata": {
        "id": "ifExU8668WDg"
      },
      "outputs": [],
      "source": [
        "def get_item_features(items: pd.DataFrame, interactions: pd.DataFrame):\n",
        "    items = items.loc[items[Columns.Item].isin(interactions[Columns.Item])].copy()\n",
        "    items[\"genre\"] = items[\"genres\"].str.lower().str.replace(\", \", \",\", regex=False).str.split(\",\")\n",
        "    genre_feature = items[[\"item_id\", \"genre\"]].explode(\"genre\")\n",
        "    genre_feature.columns = [\"id\", \"value\"]\n",
        "    genre_feature[\"feature\"] = \"genre\"\n",
        "    content_feature = items.reindex(columns=[Columns.Item, \"content_type\"])\n",
        "    content_feature.columns = [\"id\", \"value\"]\n",
        "    content_feature[\"feature\"] = \"content_type\"\n",
        "    item_features = pd.concat((genre_feature, content_feature))\n",
        "    return item_features"
      ]
    },
    {
      "cell_type": "code",
      "execution_count": null,
      "metadata": {
        "id": "K_hhMKZ282oN"
      },
      "outputs": [],
      "source": [
        "item_features = get_item_features(items, train)"
      ]
    },
    {
      "cell_type": "markdown",
      "metadata": {
        "id": "i-t9zyJJEsAi"
      },
      "source": [
        "# Формируем датасет и делаем разбиение как в ноутбуке с семинара"
      ]
    },
    {
      "cell_type": "code",
      "execution_count": null,
      "metadata": {
        "id": "TbdF17Uz9llM"
      },
      "outputs": [],
      "source": [
        "dataset = Dataset.construct(\n",
        "    interactions_df=train,\n",
        "    user_features_df=user_features,\n",
        "    cat_user_features=[\"sex\", \"age\", \"income\"],\n",
        "    item_features_df=item_features,\n",
        "    cat_item_features=[\"genre\", \"content_type\"],\n",
        ")"
      ]
    },
    {
      "cell_type": "code",
      "execution_count": null,
      "metadata": {
        "colab": {
          "base_uri": "https://localhost:8080/"
        },
        "id": "5BoWBxlBx3Lr",
        "outputId": "b2b41890-09c2-4050-b254-0261ff72fee3"
      },
      "outputs": [
        {
          "output_type": "stream",
          "name": "stdout",
          "text": [
            "min дата в interactions: 2021-03-13 00:00:00\n",
            "max дата в interactions: 2021-08-22 00:00:00\n",
            "Продолжительность: 162 days 00:00:00\n"
          ]
        }
      ],
      "source": [
        "max_date = interactions[Columns.Datetime].max()\n",
        "min_date = interactions[Columns.Datetime].min()\n",
        "\n",
        "print(f\"min дата в interactions: {min_date}\")\n",
        "print(f\"max дата в interactions: {max_date}\")\n",
        "print(f\"Продолжительность: {max_date - min_date}\")\n",
        "\n",
        "ranker_days_count = 30\n",
        "\n",
        "interactions = interactions[\n",
        "    (interactions[Columns.Datetime] < max_date - pd.Timedelta(days=ranker_days_count))\n",
        "]"
      ]
    },
    {
      "cell_type": "code",
      "execution_count": null,
      "metadata": {
        "id": "Z6uSwqQf-Mns",
        "colab": {
          "base_uri": "https://localhost:8080/"
        },
        "outputId": "910120ea-7f0f-4ad9-b421-de30ddc55336"
      },
      "outputs": [
        {
          "output_type": "stream",
          "name": "stderr",
          "text": [
            "\rDownloading the kion dataset...: 100%|██████████| 78.8M/78.8M [00:20<00:00, 130MiB/s]"
          ]
        }
      ],
      "source": [
        "user_features = get_user_features(users, interactions, [\"sex\", \"age\", \"income\"])\n",
        "item_features = get_item_features(items, interactions)"
      ]
    },
    {
      "cell_type": "code",
      "execution_count": null,
      "metadata": {
        "id": "BFJN2mJL-I39"
      },
      "outputs": [],
      "source": [
        "dataset = Dataset.construct(\n",
        "    interactions_df=interactions,\n",
        "    user_features_df=user_features,\n",
        "    cat_user_features=[\"sex\", \"age\", \"income\"],\n",
        "    item_features_df=item_features,\n",
        "    cat_item_features=[\"genre\", \"content_type\"],\n",
        ")"
      ]
    },
    {
      "cell_type": "code",
      "execution_count": null,
      "metadata": {
        "id": "ElFRmEI2-bSb"
      },
      "outputs": [],
      "source": [
        "model = LightFMWrapperModel(\n",
        "    LightFM(\n",
        "        no_components=8,\n",
        "        loss=\"warp\",\n",
        "        random_state=42,\n",
        "        learning_rate=0.05,\n",
        "        user_alpha=0.3,\n",
        "        item_alpha=0.2,\n",
        "    ),\n",
        "    epochs=1,\n",
        "    num_threads=2,\n",
        ")"
      ]
    },
    {
      "cell_type": "code",
      "execution_count": null,
      "metadata": {
        "colab": {
          "base_uri": "https://localhost:8080/"
        },
        "id": "SdsZERtS-xLr",
        "outputId": "bb29485a-c1c3-4c23-8e7a-e60cade396d1"
      },
      "outputs": [
        {
          "output_type": "execute_result",
          "data": {
            "text/plain": [
              "<rectools.models.lightfm.LightFMWrapperModel at 0x7ab67f2331f0>"
            ]
          },
          "metadata": {},
          "execution_count": 18
        }
      ],
      "source": [
        "model.fit(dataset)"
      ]
    },
    {
      "cell_type": "code",
      "execution_count": null,
      "metadata": {
        "id": "bx7NUDz2yFwC"
      },
      "outputs": [],
      "source": [
        "top_N = 100\n",
        "candidates = model.recommend(dataset.user_id_map.external_ids, dataset, top_N, True)"
      ]
    },
    {
      "cell_type": "code",
      "execution_count": null,
      "metadata": {
        "id": "V5JQdyZQ2HvA"
      },
      "outputs": [],
      "source": [
        "candidates = candidates.rename({\"rank\": \"lfm_rank\", \"score\": \"lfm_score\"}, axis=1)"
      ]
    },
    {
      "cell_type": "code",
      "source": [
        "candidates"
      ],
      "metadata": {
        "colab": {
          "base_uri": "https://localhost:8080/",
          "height": 423
        },
        "id": "A-5315n3NJMq",
        "outputId": "5d9d695a-6e81-43ac-9038-d41716c03279"
      },
      "execution_count": null,
      "outputs": [
        {
          "output_type": "execute_result",
          "data": {
            "text/plain": [
              "          user_id  item_id  lfm_score  lfm_rank\n",
              "0          176549    10440   0.001207         1\n",
              "1          176549     2150   0.001033         2\n",
              "2          176549    12138   0.001013         3\n",
              "3          176549     4240   0.000903         4\n",
              "4          176549    10843   0.000795         5\n",
              "...           ...      ...        ...       ...\n",
              "72087495   805174     9714   0.000305        96\n",
              "72087496   805174     3841   0.000302        97\n",
              "72087497   805174    10958   0.000301        98\n",
              "72087498   805174     8639   0.000300        99\n",
              "72087499   805174    14197   0.000298       100\n",
              "\n",
              "[72087500 rows x 4 columns]"
            ],
            "text/html": [
              "\n",
              "  <div id=\"df-f25589dc-c963-4d54-a486-2152ce4946f5\" class=\"colab-df-container\">\n",
              "    <div>\n",
              "<style scoped>\n",
              "    .dataframe tbody tr th:only-of-type {\n",
              "        vertical-align: middle;\n",
              "    }\n",
              "\n",
              "    .dataframe tbody tr th {\n",
              "        vertical-align: top;\n",
              "    }\n",
              "\n",
              "    .dataframe thead th {\n",
              "        text-align: right;\n",
              "    }\n",
              "</style>\n",
              "<table border=\"1\" class=\"dataframe\">\n",
              "  <thead>\n",
              "    <tr style=\"text-align: right;\">\n",
              "      <th></th>\n",
              "      <th>user_id</th>\n",
              "      <th>item_id</th>\n",
              "      <th>lfm_score</th>\n",
              "      <th>lfm_rank</th>\n",
              "    </tr>\n",
              "  </thead>\n",
              "  <tbody>\n",
              "    <tr>\n",
              "      <th>0</th>\n",
              "      <td>176549</td>\n",
              "      <td>10440</td>\n",
              "      <td>0.001207</td>\n",
              "      <td>1</td>\n",
              "    </tr>\n",
              "    <tr>\n",
              "      <th>1</th>\n",
              "      <td>176549</td>\n",
              "      <td>2150</td>\n",
              "      <td>0.001033</td>\n",
              "      <td>2</td>\n",
              "    </tr>\n",
              "    <tr>\n",
              "      <th>2</th>\n",
              "      <td>176549</td>\n",
              "      <td>12138</td>\n",
              "      <td>0.001013</td>\n",
              "      <td>3</td>\n",
              "    </tr>\n",
              "    <tr>\n",
              "      <th>3</th>\n",
              "      <td>176549</td>\n",
              "      <td>4240</td>\n",
              "      <td>0.000903</td>\n",
              "      <td>4</td>\n",
              "    </tr>\n",
              "    <tr>\n",
              "      <th>4</th>\n",
              "      <td>176549</td>\n",
              "      <td>10843</td>\n",
              "      <td>0.000795</td>\n",
              "      <td>5</td>\n",
              "    </tr>\n",
              "    <tr>\n",
              "      <th>...</th>\n",
              "      <td>...</td>\n",
              "      <td>...</td>\n",
              "      <td>...</td>\n",
              "      <td>...</td>\n",
              "    </tr>\n",
              "    <tr>\n",
              "      <th>72087495</th>\n",
              "      <td>805174</td>\n",
              "      <td>9714</td>\n",
              "      <td>0.000305</td>\n",
              "      <td>96</td>\n",
              "    </tr>\n",
              "    <tr>\n",
              "      <th>72087496</th>\n",
              "      <td>805174</td>\n",
              "      <td>3841</td>\n",
              "      <td>0.000302</td>\n",
              "      <td>97</td>\n",
              "    </tr>\n",
              "    <tr>\n",
              "      <th>72087497</th>\n",
              "      <td>805174</td>\n",
              "      <td>10958</td>\n",
              "      <td>0.000301</td>\n",
              "      <td>98</td>\n",
              "    </tr>\n",
              "    <tr>\n",
              "      <th>72087498</th>\n",
              "      <td>805174</td>\n",
              "      <td>8639</td>\n",
              "      <td>0.000300</td>\n",
              "      <td>99</td>\n",
              "    </tr>\n",
              "    <tr>\n",
              "      <th>72087499</th>\n",
              "      <td>805174</td>\n",
              "      <td>14197</td>\n",
              "      <td>0.000298</td>\n",
              "      <td>100</td>\n",
              "    </tr>\n",
              "  </tbody>\n",
              "</table>\n",
              "<p>72087500 rows × 4 columns</p>\n",
              "</div>\n",
              "    <div class=\"colab-df-buttons\">\n",
              "\n",
              "  <div class=\"colab-df-container\">\n",
              "    <button class=\"colab-df-convert\" onclick=\"convertToInteractive('df-f25589dc-c963-4d54-a486-2152ce4946f5')\"\n",
              "            title=\"Convert this dataframe to an interactive table.\"\n",
              "            style=\"display:none;\">\n",
              "\n",
              "  <svg xmlns=\"http://www.w3.org/2000/svg\" height=\"24px\" viewBox=\"0 -960 960 960\">\n",
              "    <path d=\"M120-120v-720h720v720H120Zm60-500h600v-160H180v160Zm220 220h160v-160H400v160Zm0 220h160v-160H400v160ZM180-400h160v-160H180v160Zm440 0h160v-160H620v160ZM180-180h160v-160H180v160Zm440 0h160v-160H620v160Z\"/>\n",
              "  </svg>\n",
              "    </button>\n",
              "\n",
              "  <style>\n",
              "    .colab-df-container {\n",
              "      display:flex;\n",
              "      gap: 12px;\n",
              "    }\n",
              "\n",
              "    .colab-df-convert {\n",
              "      background-color: #E8F0FE;\n",
              "      border: none;\n",
              "      border-radius: 50%;\n",
              "      cursor: pointer;\n",
              "      display: none;\n",
              "      fill: #1967D2;\n",
              "      height: 32px;\n",
              "      padding: 0 0 0 0;\n",
              "      width: 32px;\n",
              "    }\n",
              "\n",
              "    .colab-df-convert:hover {\n",
              "      background-color: #E2EBFA;\n",
              "      box-shadow: 0px 1px 2px rgba(60, 64, 67, 0.3), 0px 1px 3px 1px rgba(60, 64, 67, 0.15);\n",
              "      fill: #174EA6;\n",
              "    }\n",
              "\n",
              "    .colab-df-buttons div {\n",
              "      margin-bottom: 4px;\n",
              "    }\n",
              "\n",
              "    [theme=dark] .colab-df-convert {\n",
              "      background-color: #3B4455;\n",
              "      fill: #D2E3FC;\n",
              "    }\n",
              "\n",
              "    [theme=dark] .colab-df-convert:hover {\n",
              "      background-color: #434B5C;\n",
              "      box-shadow: 0px 1px 3px 1px rgba(0, 0, 0, 0.15);\n",
              "      filter: drop-shadow(0px 1px 2px rgba(0, 0, 0, 0.3));\n",
              "      fill: #FFFFFF;\n",
              "    }\n",
              "  </style>\n",
              "\n",
              "    <script>\n",
              "      const buttonEl =\n",
              "        document.querySelector('#df-f25589dc-c963-4d54-a486-2152ce4946f5 button.colab-df-convert');\n",
              "      buttonEl.style.display =\n",
              "        google.colab.kernel.accessAllowed ? 'block' : 'none';\n",
              "\n",
              "      async function convertToInteractive(key) {\n",
              "        const element = document.querySelector('#df-f25589dc-c963-4d54-a486-2152ce4946f5');\n",
              "        const dataTable =\n",
              "          await google.colab.kernel.invokeFunction('convertToInteractive',\n",
              "                                                    [key], {});\n",
              "        if (!dataTable) return;\n",
              "\n",
              "        const docLinkHtml = 'Like what you see? Visit the ' +\n",
              "          '<a target=\"_blank\" href=https://colab.research.google.com/notebooks/data_table.ipynb>data table notebook</a>'\n",
              "          + ' to learn more about interactive tables.';\n",
              "        element.innerHTML = '';\n",
              "        dataTable['output_type'] = 'display_data';\n",
              "        await google.colab.output.renderOutput(dataTable, element);\n",
              "        const docLink = document.createElement('div');\n",
              "        docLink.innerHTML = docLinkHtml;\n",
              "        element.appendChild(docLink);\n",
              "      }\n",
              "    </script>\n",
              "  </div>\n",
              "\n",
              "\n",
              "<div id=\"df-c4eb9b78-87b7-4a7a-a26e-4a366f509bd8\">\n",
              "  <button class=\"colab-df-quickchart\" onclick=\"quickchart('df-c4eb9b78-87b7-4a7a-a26e-4a366f509bd8')\"\n",
              "            title=\"Suggest charts\"\n",
              "            style=\"display:none;\">\n",
              "\n",
              "<svg xmlns=\"http://www.w3.org/2000/svg\" height=\"24px\"viewBox=\"0 0 24 24\"\n",
              "     width=\"24px\">\n",
              "    <g>\n",
              "        <path d=\"M19 3H5c-1.1 0-2 .9-2 2v14c0 1.1.9 2 2 2h14c1.1 0 2-.9 2-2V5c0-1.1-.9-2-2-2zM9 17H7v-7h2v7zm4 0h-2V7h2v10zm4 0h-2v-4h2v4z\"/>\n",
              "    </g>\n",
              "</svg>\n",
              "  </button>\n",
              "\n",
              "<style>\n",
              "  .colab-df-quickchart {\n",
              "      --bg-color: #E8F0FE;\n",
              "      --fill-color: #1967D2;\n",
              "      --hover-bg-color: #E2EBFA;\n",
              "      --hover-fill-color: #174EA6;\n",
              "      --disabled-fill-color: #AAA;\n",
              "      --disabled-bg-color: #DDD;\n",
              "  }\n",
              "\n",
              "  [theme=dark] .colab-df-quickchart {\n",
              "      --bg-color: #3B4455;\n",
              "      --fill-color: #D2E3FC;\n",
              "      --hover-bg-color: #434B5C;\n",
              "      --hover-fill-color: #FFFFFF;\n",
              "      --disabled-bg-color: #3B4455;\n",
              "      --disabled-fill-color: #666;\n",
              "  }\n",
              "\n",
              "  .colab-df-quickchart {\n",
              "    background-color: var(--bg-color);\n",
              "    border: none;\n",
              "    border-radius: 50%;\n",
              "    cursor: pointer;\n",
              "    display: none;\n",
              "    fill: var(--fill-color);\n",
              "    height: 32px;\n",
              "    padding: 0;\n",
              "    width: 32px;\n",
              "  }\n",
              "\n",
              "  .colab-df-quickchart:hover {\n",
              "    background-color: var(--hover-bg-color);\n",
              "    box-shadow: 0 1px 2px rgba(60, 64, 67, 0.3), 0 1px 3px 1px rgba(60, 64, 67, 0.15);\n",
              "    fill: var(--button-hover-fill-color);\n",
              "  }\n",
              "\n",
              "  .colab-df-quickchart-complete:disabled,\n",
              "  .colab-df-quickchart-complete:disabled:hover {\n",
              "    background-color: var(--disabled-bg-color);\n",
              "    fill: var(--disabled-fill-color);\n",
              "    box-shadow: none;\n",
              "  }\n",
              "\n",
              "  .colab-df-spinner {\n",
              "    border: 2px solid var(--fill-color);\n",
              "    border-color: transparent;\n",
              "    border-bottom-color: var(--fill-color);\n",
              "    animation:\n",
              "      spin 1s steps(1) infinite;\n",
              "  }\n",
              "\n",
              "  @keyframes spin {\n",
              "    0% {\n",
              "      border-color: transparent;\n",
              "      border-bottom-color: var(--fill-color);\n",
              "      border-left-color: var(--fill-color);\n",
              "    }\n",
              "    20% {\n",
              "      border-color: transparent;\n",
              "      border-left-color: var(--fill-color);\n",
              "      border-top-color: var(--fill-color);\n",
              "    }\n",
              "    30% {\n",
              "      border-color: transparent;\n",
              "      border-left-color: var(--fill-color);\n",
              "      border-top-color: var(--fill-color);\n",
              "      border-right-color: var(--fill-color);\n",
              "    }\n",
              "    40% {\n",
              "      border-color: transparent;\n",
              "      border-right-color: var(--fill-color);\n",
              "      border-top-color: var(--fill-color);\n",
              "    }\n",
              "    60% {\n",
              "      border-color: transparent;\n",
              "      border-right-color: var(--fill-color);\n",
              "    }\n",
              "    80% {\n",
              "      border-color: transparent;\n",
              "      border-right-color: var(--fill-color);\n",
              "      border-bottom-color: var(--fill-color);\n",
              "    }\n",
              "    90% {\n",
              "      border-color: transparent;\n",
              "      border-bottom-color: var(--fill-color);\n",
              "    }\n",
              "  }\n",
              "</style>\n",
              "\n",
              "  <script>\n",
              "    async function quickchart(key) {\n",
              "      const quickchartButtonEl =\n",
              "        document.querySelector('#' + key + ' button');\n",
              "      quickchartButtonEl.disabled = true;  // To prevent multiple clicks.\n",
              "      quickchartButtonEl.classList.add('colab-df-spinner');\n",
              "      try {\n",
              "        const charts = await google.colab.kernel.invokeFunction(\n",
              "            'suggestCharts', [key], {});\n",
              "      } catch (error) {\n",
              "        console.error('Error during call to suggestCharts:', error);\n",
              "      }\n",
              "      quickchartButtonEl.classList.remove('colab-df-spinner');\n",
              "      quickchartButtonEl.classList.add('colab-df-quickchart-complete');\n",
              "    }\n",
              "    (() => {\n",
              "      let quickchartButtonEl =\n",
              "        document.querySelector('#df-c4eb9b78-87b7-4a7a-a26e-4a366f509bd8 button');\n",
              "      quickchartButtonEl.style.display =\n",
              "        google.colab.kernel.accessAllowed ? 'block' : 'none';\n",
              "    })();\n",
              "  </script>\n",
              "</div>\n",
              "    </div>\n",
              "  </div>\n"
            ]
          },
          "metadata": {},
          "execution_count": 23
        }
      ]
    },
    {
      "cell_type": "markdown",
      "metadata": {
        "id": "bz_G_UP04MGN"
      },
      "source": [
        "Сохраняем"
      ]
    },
    {
      "cell_type": "code",
      "source": [
        "from google.colab import drive\n",
        "\n",
        "drive.mount(\"/content/drive\")"
      ],
      "metadata": {
        "colab": {
          "base_uri": "https://localhost:8080/"
        },
        "id": "tfQNyx8TV7y8",
        "outputId": "e463912a-1f6e-4a85-d15b-b946af932a72"
      },
      "execution_count": null,
      "outputs": [
        {
          "output_type": "stream",
          "name": "stdout",
          "text": [
            "Mounted at /content/drive\n"
          ]
        }
      ]
    },
    {
      "cell_type": "code",
      "source": [
        "candidates.to_csv(\"/content/drive/MyDrive/candidates_lfm_feats.csv\", index=False)"
      ],
      "metadata": {
        "id": "0hjvk4_aYLvz"
      },
      "execution_count": null,
      "outputs": []
    },
    {
      "cell_type": "code",
      "execution_count": null,
      "metadata": {
        "id": "5vFpjaXWiKj-"
      },
      "outputs": [],
      "source": [
        "MODEL_PATH = \"/content/LightFM_warp_8.pkl\"\n",
        "pickle.dump(model, open(MODEL_PATH, \"wb\"))"
      ]
    },
    {
      "cell_type": "code",
      "source": [],
      "metadata": {
        "id": "Vf2zohfqNV-0"
      },
      "execution_count": null,
      "outputs": []
    }
  ],
  "metadata": {
    "colab": {
      "collapsed_sections": [
        "e-7t2Od17OdB",
        "twsVRfXL7aUH",
        "i-t9zyJJEsAi",
        "905lfZmT97Tj"
      ],
      "provenance": [],
      "gpuType": "T4"
    },
    "kernelspec": {
      "display_name": "Python 3",
      "name": "python3"
    },
    "language_info": {
      "codemirror_mode": {
        "name": "ipython",
        "version": 3
      },
      "file_extension": ".py",
      "mimetype": "text/x-python",
      "name": "python",
      "nbconvert_exporter": "python",
      "pygments_lexer": "ipython3",
      "version": "3.10.12"
    },
    "accelerator": "GPU"
  },
  "nbformat": 4,
  "nbformat_minor": 0
}