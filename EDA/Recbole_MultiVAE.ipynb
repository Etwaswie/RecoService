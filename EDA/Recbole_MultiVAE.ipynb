{
  "cells": [
    {
      "cell_type": "code",
      "source": [
        "%%capture\n",
        "\n",
        "!pip install recbole\n",
        "!pip install ray\n",
        "!pip install kmeans_pytorch\n",
        "!pip install torch"
      ],
      "metadata": {
        "id": "9WVNCQnnE4RE"
      },
      "id": "9WVNCQnnE4RE",
      "execution_count": null,
      "outputs": []
    },
    {
      "cell_type": "code",
      "execution_count": null,
      "id": "6de2c8bc",
      "metadata": {
        "execution": {
          "iopub.execute_input": "2022-11-27T16:33:28.041759Z",
          "iopub.status.busy": "2022-11-27T16:33:28.041244Z",
          "iopub.status.idle": "2022-11-27T16:33:29.274165Z",
          "shell.execute_reply": "2022-11-27T16:33:29.272623Z"
        },
        "papermill": {
          "duration": 1.244043,
          "end_time": "2022-11-27T16:33:29.277270",
          "exception": false,
          "start_time": "2022-11-27T16:33:28.033227",
          "status": "completed"
        },
        "tags": [],
        "id": "6de2c8bc"
      },
      "outputs": [],
      "source": [
        "import ast\n",
        "import json\n",
        "import matplotlib.pyplot as plt\n",
        "import numpy as np\n",
        "import os\n",
        "import pandas as pd\n",
        "import pickle\n",
        "import torch\n",
        "\n",
        "import time\n",
        "\n",
        "import warnings\n",
        "warnings.filterwarnings('ignore')\n",
        "\n",
        "from collections import Counter\n",
        "from random import randint, random\n",
        "from scipy.sparse import coo_matrix, hstack\n",
        "from sklearn.metrics.pairwise import euclidean_distances, cosine_distances, cosine_similarity\n"
      ]
    },
    {
      "cell_type": "code",
      "execution_count": null,
      "id": "e126014d",
      "metadata": {
        "execution": {
          "iopub.execute_input": "2022-11-27T16:34:01.010002Z",
          "iopub.status.busy": "2022-11-27T16:34:01.009584Z",
          "iopub.status.idle": "2022-11-27T16:34:04.065652Z",
          "shell.execute_reply": "2022-11-27T16:34:04.064531Z"
        },
        "papermill": {
          "duration": 3.067001,
          "end_time": "2022-11-27T16:34:04.068318",
          "exception": false,
          "start_time": "2022-11-27T16:34:01.001317",
          "status": "completed"
        },
        "tags": [],
        "id": "e126014d"
      },
      "outputs": [],
      "source": [
        "import logging\n",
        "from logging import getLogger\n",
        "from recbole.config import Config\n",
        "from recbole.data import create_dataset, data_preparation\n",
        "from recbole.model.sequential_recommender import GRU4Rec, Caser\n",
        "from recbole.trainer import Trainer\n",
        "from recbole.utils import init_seed, init_logger\n",
        "from recbole.quick_start import run_recbole\n",
        "from recbole.model.general_recommender.multivae import MultiVAE"
      ]
    },
    {
      "cell_type": "markdown",
      "source": [
        "Загрузим данные:"
      ],
      "metadata": {
        "id": "8COJ5fEdFu8R"
      },
      "id": "8COJ5fEdFu8R"
    },
    {
      "cell_type": "code",
      "source": [
        "!unzip processed_data.zip -x"
      ],
      "metadata": {
        "colab": {
          "base_uri": "https://localhost:8080/"
        },
        "id": "Z9yKzyBpFeEp",
        "outputId": "f508bad9-2360-4065-95e4-8239b881d818"
      },
      "id": "Z9yKzyBpFeEp",
      "execution_count": null,
      "outputs": [
        {
          "output_type": "stream",
          "name": "stdout",
          "text": [
            "Archive:  processed_data.zip\n",
            "  inflating: users_processed_kion.csv  \n",
            "  inflating: interactions_processed_kion.csv  \n",
            "  inflating: items_processed_kion.csv  \n"
          ]
        }
      ]
    },
    {
      "cell_type": "code",
      "execution_count": null,
      "id": "9052ce21",
      "metadata": {
        "execution": {
          "iopub.execute_input": "2022-11-27T16:33:29.309390Z",
          "iopub.status.busy": "2022-11-27T16:33:29.308918Z",
          "iopub.status.idle": "2022-11-27T16:33:35.744619Z",
          "shell.execute_reply": "2022-11-27T16:33:35.743511Z"
        },
        "papermill": {
          "duration": 6.445298,
          "end_time": "2022-11-27T16:33:35.747539",
          "exception": false,
          "start_time": "2022-11-27T16:33:29.302241",
          "status": "completed"
        },
        "tags": [],
        "id": "9052ce21"
      },
      "outputs": [],
      "source": [
        "interactions_df = pd.read_csv('/content/interactions_processed_kion.csv')\n",
        "users_df = pd.read_csv('/content/users_processed_kion.csv')\n",
        "items_df = pd.read_csv('/content/items_processed_kion.csv')"
      ]
    },
    {
      "cell_type": "code",
      "execution_count": null,
      "id": "0b371b15",
      "metadata": {
        "execution": {
          "iopub.execute_input": "2022-11-27T16:33:35.759448Z",
          "iopub.status.busy": "2022-11-27T16:33:35.758615Z",
          "iopub.status.idle": "2022-11-27T16:33:36.674749Z",
          "shell.execute_reply": "2022-11-27T16:33:36.673314Z"
        },
        "papermill": {
          "duration": 0.925082,
          "end_time": "2022-11-27T16:33:36.677439",
          "exception": false,
          "start_time": "2022-11-27T16:33:35.752357",
          "status": "completed"
        },
        "tags": [],
        "id": "0b371b15"
      },
      "outputs": [],
      "source": [
        "interactions_df['t_dat'] = pd.to_datetime(interactions_df['last_watch_dt'], format=\"%Y-%m-%d\")\n",
        "interactions_df['timestamp'] = interactions_df.t_dat.values.astype(np.int64) // 10 ** 9"
      ]
    },
    {
      "cell_type": "code",
      "execution_count": null,
      "id": "7f075c88",
      "metadata": {
        "execution": {
          "iopub.execute_input": "2022-11-27T16:33:36.688908Z",
          "iopub.status.busy": "2022-11-27T16:33:36.688507Z",
          "iopub.status.idle": "2022-11-27T16:33:36.963693Z",
          "shell.execute_reply": "2022-11-27T16:33:36.962323Z"
        },
        "papermill": {
          "duration": 0.284147,
          "end_time": "2022-11-27T16:33:36.966533",
          "exception": false,
          "start_time": "2022-11-27T16:33:36.682386",
          "status": "completed"
        },
        "tags": [],
        "id": "7f075c88"
      },
      "outputs": [],
      "source": [
        "df = interactions_df[['user_id', 'item_id', 'timestamp']].rename(\n",
        "    columns={'user_id': 'user_id:token', 'item_id': 'item_id:token', 'timestamp': 'timestamp:float'})"
      ]
    },
    {
      "cell_type": "code",
      "execution_count": null,
      "id": "aab347ea",
      "metadata": {
        "execution": {
          "iopub.execute_input": "2022-11-27T16:33:36.978797Z",
          "iopub.status.busy": "2022-11-27T16:33:36.977868Z",
          "iopub.status.idle": "2022-11-27T16:33:38.064289Z",
          "shell.execute_reply": "2022-11-27T16:33:38.062510Z"
        },
        "papermill": {
          "duration": 1.09547,
          "end_time": "2022-11-27T16:33:38.067180",
          "exception": false,
          "start_time": "2022-11-27T16:33:36.971710",
          "status": "completed"
        },
        "tags": [],
        "id": "aab347ea"
      },
      "outputs": [],
      "source": [
        "!mkdir recbox_data"
      ]
    },
    {
      "cell_type": "code",
      "execution_count": null,
      "id": "dff1fa1b",
      "metadata": {
        "execution": {
          "iopub.execute_input": "2022-11-27T16:33:38.079447Z",
          "iopub.status.busy": "2022-11-27T16:33:38.078986Z",
          "iopub.status.idle": "2022-11-27T16:33:45.904144Z",
          "shell.execute_reply": "2022-11-27T16:33:45.902874Z"
        },
        "papermill": {
          "duration": 7.834652,
          "end_time": "2022-11-27T16:33:45.906924",
          "exception": false,
          "start_time": "2022-11-27T16:33:38.072272",
          "status": "completed"
        },
        "tags": [],
        "id": "dff1fa1b"
      },
      "outputs": [],
      "source": [
        "df.to_csv('recbox_data/recbox_data.inter', index=False, sep='\\t')"
      ]
    },
    {
      "cell_type": "markdown",
      "source": [
        "Создаем датасет:"
      ],
      "metadata": {
        "id": "bbat3UoiF29U"
      },
      "id": "bbat3UoiF29U"
    },
    {
      "cell_type": "code",
      "execution_count": null,
      "id": "a4b97bdc",
      "metadata": {
        "execution": {
          "iopub.execute_input": "2022-11-27T16:34:04.084646Z",
          "iopub.status.busy": "2022-11-27T16:34:04.083930Z",
          "iopub.status.idle": "2022-11-27T16:34:04.217448Z",
          "shell.execute_reply": "2022-11-27T16:34:04.216060Z"
        },
        "papermill": {
          "duration": 0.145622,
          "end_time": "2022-11-27T16:34:04.220395",
          "exception": false,
          "start_time": "2022-11-27T16:34:04.074773",
          "status": "completed"
        },
        "tags": [],
        "colab": {
          "base_uri": "https://localhost:8080/"
        },
        "id": "a4b97bdc",
        "outputId": "b8b8d821-a07e-44c4-e803-269f5ae7cba0"
      },
      "outputs": [
        {
          "output_type": "stream",
          "name": "stderr",
          "text": [
            "WARNING:root:command line args [-f /root/.local/share/jupyter/runtime/kernel-fc4ee338-ebd6-4acf-a492-831db10eac09.json] will not be used in RecBole\n"
          ]
        }
      ],
      "source": [
        "parameter_dict = {\n",
        "    'data_path': '',\n",
        "    'USER_ID_FIELD': 'user_id',\n",
        "    'ITEM_ID_FIELD': 'item_id',\n",
        "    'TIME_FIELD': 'timestamp',\n",
        "    'device': 'GPU',\n",
        "    'user_inter_num_interval': \"[40,inf)\",\n",
        "    'item_inter_num_interval': \"[40,inf)\",\n",
        "    'load_col': {'inter': ['user_id', 'item_id', 'timestamp']},\n",
        "    'neg_sampling': None,\n",
        "    'epochs': 10,\n",
        "    'eval_args': {\n",
        "        'split': {'RS': [9, 0, 1]},\n",
        "        'group_by': 'user',\n",
        "        'order': 'TO',\n",
        "        'mode': 'full'}\n",
        "}\n",
        "config = Config(model='MultiVAE', dataset='recbox_data', config_dict=parameter_dict)\n",
        "\n",
        "# init random seed\n",
        "init_seed(config['seed'], config['reproducibility'])\n",
        "\n",
        "# logger initialization\n",
        "init_logger(config)\n",
        "logger = getLogger()\n",
        "# Create handlers\n",
        "c_handler = logging.StreamHandler()\n",
        "c_handler.setLevel(logging.INFO)\n",
        "logger.addHandler(c_handler)\n",
        "\n",
        "# write config info into log\n",
        "# logger.info(config)"
      ]
    },
    {
      "cell_type": "code",
      "execution_count": null,
      "id": "d6d18eea",
      "metadata": {
        "execution": {
          "iopub.execute_input": "2022-11-27T16:34:04.236251Z",
          "iopub.status.busy": "2022-11-27T16:34:04.235805Z",
          "iopub.status.idle": "2022-11-27T16:34:46.795905Z",
          "shell.execute_reply": "2022-11-27T16:34:46.794283Z"
        },
        "papermill": {
          "duration": 42.583583,
          "end_time": "2022-11-27T16:34:46.811041",
          "exception": false,
          "start_time": "2022-11-27T16:34:04.227458",
          "status": "completed"
        },
        "tags": [],
        "id": "d6d18eea"
      },
      "outputs": [],
      "source": [
        "dataset = create_dataset(config)\n",
        "logger.info(dataset)"
      ]
    },
    {
      "cell_type": "markdown",
      "source": [
        "Разделим данные на train, test и valid:"
      ],
      "metadata": {
        "id": "2Z5kNW3tF7JC"
      },
      "id": "2Z5kNW3tF7JC"
    },
    {
      "cell_type": "code",
      "execution_count": null,
      "id": "66706c2e",
      "metadata": {
        "execution": {
          "iopub.execute_input": "2022-11-27T16:34:46.827485Z",
          "iopub.status.busy": "2022-11-27T16:34:46.827025Z",
          "iopub.status.idle": "2022-11-27T16:34:49.051342Z",
          "shell.execute_reply": "2022-11-27T16:34:49.049929Z"
        },
        "papermill": {
          "duration": 2.241551,
          "end_time": "2022-11-27T16:34:49.059852",
          "exception": false,
          "start_time": "2022-11-27T16:34:46.818301",
          "status": "completed"
        },
        "tags": [],
        "id": "66706c2e"
      },
      "outputs": [],
      "source": [
        "train_data, valid_data, test_data = data_preparation(config, dataset)"
      ]
    },
    {
      "cell_type": "markdown",
      "source": [
        "Возьмем 6 моделей из recbole и посмотрим на их результаты:"
      ],
      "metadata": {
        "id": "Q5opFoKWGQC5"
      },
      "id": "Q5opFoKWGQC5"
    },
    {
      "cell_type": "code",
      "execution_count": null,
      "id": "5f5ae775",
      "metadata": {
        "execution": {
          "iopub.execute_input": "2022-11-27T16:34:49.103661Z",
          "iopub.status.busy": "2022-11-27T16:34:49.103250Z",
          "iopub.status.idle": "2022-11-28T00:09:08.384762Z",
          "shell.execute_reply": "2022-11-28T00:09:08.383614Z"
        },
        "papermill": {
          "duration": 27259.293886,
          "end_time": "2022-11-28T00:09:08.387403",
          "exception": false,
          "start_time": "2022-11-27T16:34:49.093517",
          "status": "completed"
        },
        "tags": [],
        "colab": {
          "base_uri": "https://localhost:8080/"
        },
        "id": "5f5ae775",
        "outputId": "9d947134-78d5-470c-b9b6-ff2280ca4a41"
      },
      "outputs": [
        {
          "metadata": {
            "tags": null
          },
          "name": "stdout",
          "output_type": "stream",
          "text": [
            "running MultiVAE...\n"
          ]
        },
        {
          "metadata": {
            "tags": null
          },
          "name": "stderr",
          "output_type": "stream",
          "text": [
            "WARNING:root:command line args [-f /root/.local/share/jupyter/runtime/kernel-bb8f9d95-c270-41f6-8eba-1c5f91e70170.json] will not be used in RecBole\n",
            "command line args [-f /root/.local/share/jupyter/runtime/kernel-bb8f9d95-c270-41f6-8eba-1c5f91e70170.json] will not be used in RecBole\n",
            "WARNING:root:Max value of user's history interaction records has reached 20.9471766848816% of the total.\n",
            "Max value of user's history interaction records has reached 20.9471766848816% of the total.\n",
            "Train     0: 100%|████████████████████████████████████████████████████| 7/7 [00:08<00:00,  1.15s/it]\n",
            "Train     1: 100%|████████████████████████████████████████████████████| 7/7 [00:06<00:00,  1.12it/s]\n",
            "Train     2: 100%|████████████████████████████████████████████████████| 7/7 [00:07<00:00,  1.10s/it]\n",
            "Train     3: 100%|████████████████████████████████████████████████████| 7/7 [00:06<00:00,  1.12it/s]\n",
            "Train     4: 100%|████████████████████████████████████████████████████| 7/7 [00:07<00:00,  1.11s/it]\n",
            "Train     5: 100%|████████████████████████████████████████████████████| 7/7 [00:06<00:00,  1.10it/s]\n",
            "Train     6: 100%|████████████████████████████████████████████████████| 7/7 [00:07<00:00,  1.10s/it]\n",
            "Train     7: 100%|████████████████████████████████████████████████████| 7/7 [00:06<00:00,  1.12it/s]\n",
            "Train     8: 100%|████████████████████████████████████████████████████| 7/7 [00:07<00:00,  1.09s/it]\n",
            "Train     9: 100%|████████████████████████████████████████████████████| 7/7 [00:06<00:00,  1.11it/s]\n",
            "Evaluate   : 100%|███████████████████████████████████████████| 13354/13354 [00:40<00:00, 327.38it/s]\n"
          ]
        },
        {
          "metadata": {
            "tags": null
          },
          "name": "stdout",
          "output_type": "stream",
          "text": [
            "It took 2.85 mins\n",
            "{'best_valid_score': -inf, 'valid_score_bigger': True, 'best_valid_result': None, 'test_result': OrderedDict([('recall@10', 0.084), ('mrr@10', 0.1695), ('ndcg@10', 0.0825), ('hit@10', 0.3503), ('precision@10', 0.0467)])}\n",
            "running MultiDAE...\n"
          ]
        },
        {
          "metadata": {
            "tags": null
          },
          "name": "stderr",
          "output_type": "stream",
          "text": [
            "WARNING:root:command line args [-f /root/.local/share/jupyter/runtime/kernel-bb8f9d95-c270-41f6-8eba-1c5f91e70170.json] will not be used in RecBole\n",
            "command line args [-f /root/.local/share/jupyter/runtime/kernel-bb8f9d95-c270-41f6-8eba-1c5f91e70170.json] will not be used in RecBole\n",
            "WARNING:root:Max value of user's history interaction records has reached 20.9471766848816% of the total.\n",
            "Max value of user's history interaction records has reached 20.9471766848816% of the total.\n",
            "Train     0: 100%|████████████████████████████████████████████████████| 7/7 [00:06<00:00,  1.11it/s]\n",
            "Train     1: 100%|████████████████████████████████████████████████████| 7/7 [00:07<00:00,  1.05s/it]\n",
            "Train     2: 100%|████████████████████████████████████████████████████| 7/7 [00:06<00:00,  1.09it/s]\n",
            "Train     3: 100%|████████████████████████████████████████████████████| 7/7 [00:07<00:00,  1.01s/it]\n",
            "Train     4: 100%|████████████████████████████████████████████████████| 7/7 [00:06<00:00,  1.06it/s]\n",
            "Train     5: 100%|████████████████████████████████████████████████████| 7/7 [00:07<00:00,  1.04s/it]\n",
            "Train     6: 100%|████████████████████████████████████████████████████| 7/7 [00:06<00:00,  1.04it/s]\n",
            "Train     7: 100%|████████████████████████████████████████████████████| 7/7 [00:06<00:00,  1.04it/s]\n",
            "Train     8: 100%|████████████████████████████████████████████████████| 7/7 [00:06<00:00,  1.02it/s]\n",
            "Train     9: 100%|████████████████████████████████████████████████████| 7/7 [00:06<00:00,  1.05it/s]\n",
            "Evaluate   : 100%|███████████████████████████████████████████| 13354/13354 [00:34<00:00, 382.85it/s]\n"
          ]
        },
        {
          "metadata": {
            "tags": null
          },
          "name": "stdout",
          "output_type": "stream",
          "text": [
            "It took 2.72 mins\n",
            "{'best_valid_score': -inf, 'valid_score_bigger': True, 'best_valid_result': None, 'test_result': OrderedDict([('recall@10', 0.0829), ('mrr@10', 0.1655), ('ndcg@10', 0.081), ('hit@10', 0.3438), ('precision@10', 0.0459)])}\n",
            "running MacridVAE...\n"
          ]
        },
        {
          "output_type": "stream",
          "name": "stderr",
          "text": [
            "WARNING:root:command line args [-f /root/.local/share/jupyter/runtime/kernel-bb8f9d95-c270-41f6-8eba-1c5f91e70170.json] will not be used in RecBole\n",
            "command line args [-f /root/.local/share/jupyter/runtime/kernel-bb8f9d95-c270-41f6-8eba-1c5f91e70170.json] will not be used in RecBole\n",
            "WARNING:root:Max value of user's history interaction records has reached 20.9471766848816% of the total.\n",
            "Max value of user's history interaction records has reached 20.9471766848816% of the total.\n",
            "Train     0: 100%|████████████████████████████████████████████████████| 7/7 [00:53<00:00,  7.58s/it]\n",
            "Train     1: 100%|████████████████████████████████████████████████████| 7/7 [00:54<00:00,  7.76s/it]\n",
            "Train     2: 100%|████████████████████████████████████████████████████| 7/7 [00:57<00:00,  8.22s/it]\n",
            "Train     3: 100%|████████████████████████████████████████████████████| 7/7 [00:53<00:00,  7.66s/it]\n",
            "Train     4: 100%|████████████████████████████████████████████████████| 7/7 [00:53<00:00,  7.63s/it]\n",
            "Train     5: 100%|████████████████████████████████████████████████████| 7/7 [00:50<00:00,  7.20s/it]\n",
            "Train     6: 100%|████████████████████████████████████████████████████| 7/7 [00:52<00:00,  7.54s/it]\n",
            "Train     7: 100%|████████████████████████████████████████████████████| 7/7 [00:52<00:00,  7.49s/it]\n",
            "Train     8: 100%|████████████████████████████████████████████████████| 7/7 [00:53<00:00,  7.69s/it]\n",
            "Train     9: 100%|████████████████████████████████████████████████████| 7/7 [00:53<00:00,  7.59s/it]\n",
            "Evaluate   : 100%|████████████████████████████████████████████| 13354/13354 [02:55<00:00, 76.13it/s]\n"
          ]
        },
        {
          "output_type": "stream",
          "name": "stdout",
          "text": [
            "It took 12.79 mins\n",
            "{'best_valid_score': -inf, 'valid_score_bigger': True, 'best_valid_result': None, 'test_result': OrderedDict([('recall@10', 0.0835), ('mrr@10', 0.1574), ('ndcg@10', 0.0788), ('hit@10', 0.3499), ('precision@10', 0.0461)])}\n",
            "running NeuMF...\n"
          ]
        },
        {
          "output_type": "stream",
          "name": "stderr",
          "text": [
            "WARNING:root:command line args [-f /root/.local/share/jupyter/runtime/kernel-bb8f9d95-c270-41f6-8eba-1c5f91e70170.json] will not be used in RecBole\n",
            "command line args [-f /root/.local/share/jupyter/runtime/kernel-bb8f9d95-c270-41f6-8eba-1c5f91e70170.json] will not be used in RecBole\n",
            "Train     0: 100%|████████████████████████████████████████████████| 755/755 [00:55<00:00, 13.70it/s]\n",
            "Train     1: 100%|████████████████████████████████████████████████| 755/755 [00:50<00:00, 15.01it/s]\n",
            "Train     2: 100%|████████████████████████████████████████████████| 755/755 [00:49<00:00, 15.18it/s]\n",
            "Train     3: 100%|████████████████████████████████████████████████| 755/755 [00:48<00:00, 15.42it/s]\n",
            "Train     4: 100%|████████████████████████████████████████████████| 755/755 [00:48<00:00, 15.41it/s]\n",
            "Train     5: 100%|████████████████████████████████████████████████| 755/755 [00:49<00:00, 15.41it/s]\n",
            "Train     6: 100%|████████████████████████████████████████████████| 755/755 [00:49<00:00, 15.40it/s]\n",
            "Train     7: 100%|████████████████████████████████████████████████| 755/755 [00:49<00:00, 15.38it/s]\n",
            "Train     8: 100%|████████████████████████████████████████████████| 755/755 [00:48<00:00, 15.57it/s]\n",
            "Train     9: 100%|████████████████████████████████████████████████| 755/755 [00:48<00:00, 15.44it/s]\n",
            "Evaluate   : 100%|███████████████████████████████████████████| 13354/13354 [01:45<00:00, 127.01it/s]\n"
          ]
        },
        {
          "output_type": "stream",
          "name": "stdout",
          "text": [
            "It took 10.89 mins\n",
            "{'best_valid_score': -inf, 'valid_score_bigger': True, 'best_valid_result': None, 'test_result': OrderedDict([('recall@10', 0.069), ('mrr@10', 0.1173), ('ndcg@10', 0.0605), ('hit@10', 0.3009), ('precision@10', 0.0381)])}\n",
            "running RecVAE...\n"
          ]
        },
        {
          "output_type": "stream",
          "name": "stderr",
          "text": [
            "WARNING:root:command line args [-f /root/.local/share/jupyter/runtime/kernel-bb8f9d95-c270-41f6-8eba-1c5f91e70170.json] will not be used in RecBole\n",
            "command line args [-f /root/.local/share/jupyter/runtime/kernel-bb8f9d95-c270-41f6-8eba-1c5f91e70170.json] will not be used in RecBole\n",
            "WARNING:root:Max value of user's history interaction records has reached 20.9471766848816% of the total.\n",
            "Max value of user's history interaction records has reached 20.9471766848816% of the total.\n",
            "Train     0: 100%|████████████████████████████████████████████████████| 7/7 [00:12<00:00,  1.75s/it]\n",
            "Train     0: 100%|████████████████████████████████████████████████████| 7/7 [00:13<00:00,  1.88s/it]\n",
            "Train     0: 100%|████████████████████████████████████████████████████| 7/7 [00:11<00:00,  1.71s/it]\n",
            "Train     0: 100%|████████████████████████████████████████████████████| 7/7 [00:11<00:00,  1.67s/it]\n",
            "Train     1: 100%|████████████████████████████████████████████████████| 7/7 [00:11<00:00,  1.69s/it]\n",
            "Train     1: 100%|████████████████████████████████████████████████████| 7/7 [00:11<00:00,  1.66s/it]\n",
            "Train     1: 100%|████████████████████████████████████████████████████| 7/7 [00:11<00:00,  1.63s/it]\n",
            "Train     1: 100%|████████████████████████████████████████████████████| 7/7 [00:11<00:00,  1.63s/it]\n",
            "Train     2: 100%|████████████████████████████████████████████████████| 7/7 [00:11<00:00,  1.69s/it]\n",
            "Train     2: 100%|████████████████████████████████████████████████████| 7/7 [00:11<00:00,  1.68s/it]\n",
            "Train     2: 100%|████████████████████████████████████████████████████| 7/7 [00:11<00:00,  1.69s/it]\n",
            "Train     2: 100%|████████████████████████████████████████████████████| 7/7 [00:11<00:00,  1.67s/it]\n",
            "Train     3: 100%|████████████████████████████████████████████████████| 7/7 [00:11<00:00,  1.70s/it]\n",
            "Train     3: 100%|████████████████████████████████████████████████████| 7/7 [00:11<00:00,  1.68s/it]\n",
            "Train     3: 100%|████████████████████████████████████████████████████| 7/7 [00:11<00:00,  1.70s/it]\n",
            "Train     3: 100%|████████████████████████████████████████████████████| 7/7 [00:11<00:00,  1.67s/it]\n",
            "Train     4: 100%|████████████████████████████████████████████████████| 7/7 [00:11<00:00,  1.69s/it]\n",
            "Train     4: 100%|████████████████████████████████████████████████████| 7/7 [00:12<00:00,  1.72s/it]\n",
            "Train     4: 100%|████████████████████████████████████████████████████| 7/7 [00:11<00:00,  1.69s/it]\n",
            "Train     4: 100%|████████████████████████████████████████████████████| 7/7 [00:11<00:00,  1.64s/it]\n",
            "Train     5: 100%|████████████████████████████████████████████████████| 7/7 [00:11<00:00,  1.66s/it]\n",
            "Train     5: 100%|████████████████████████████████████████████████████| 7/7 [00:11<00:00,  1.66s/it]\n",
            "Train     5: 100%|████████████████████████████████████████████████████| 7/7 [00:11<00:00,  1.65s/it]\n",
            "Train     5: 100%|████████████████████████████████████████████████████| 7/7 [00:11<00:00,  1.65s/it]\n",
            "Train     6: 100%|████████████████████████████████████████████████████| 7/7 [00:11<00:00,  1.64s/it]\n",
            "Train     6: 100%|████████████████████████████████████████████████████| 7/7 [00:11<00:00,  1.65s/it]\n",
            "Train     6: 100%|████████████████████████████████████████████████████| 7/7 [00:11<00:00,  1.67s/it]\n",
            "Train     6: 100%|████████████████████████████████████████████████████| 7/7 [00:11<00:00,  1.65s/it]\n",
            "Train     7: 100%|████████████████████████████████████████████████████| 7/7 [00:11<00:00,  1.69s/it]\n",
            "Train     7: 100%|████████████████████████████████████████████████████| 7/7 [00:11<00:00,  1.68s/it]\n",
            "Train     7: 100%|████████████████████████████████████████████████████| 7/7 [00:11<00:00,  1.69s/it]\n",
            "Train     7: 100%|████████████████████████████████████████████████████| 7/7 [00:11<00:00,  1.66s/it]\n",
            "Train     8: 100%|████████████████████████████████████████████████████| 7/7 [00:11<00:00,  1.69s/it]\n",
            "Train     8: 100%|████████████████████████████████████████████████████| 7/7 [00:11<00:00,  1.70s/it]\n",
            "Train     8: 100%|████████████████████████████████████████████████████| 7/7 [00:11<00:00,  1.69s/it]\n",
            "Train     8: 100%|████████████████████████████████████████████████████| 7/7 [00:11<00:00,  1.65s/it]\n",
            "Train     9: 100%|████████████████████████████████████████████████████| 7/7 [00:11<00:00,  1.67s/it]\n",
            "Train     9: 100%|████████████████████████████████████████████████████| 7/7 [00:11<00:00,  1.68s/it]\n",
            "Train     9: 100%|████████████████████████████████████████████████████| 7/7 [00:11<00:00,  1.69s/it]\n",
            "Train     9: 100%|████████████████████████████████████████████████████| 7/7 [00:11<00:00,  1.63s/it]\n",
            "Evaluate   : 100%|███████████████████████████████████████████| 13354/13354 [00:51<00:00, 261.81it/s]\n"
          ]
        },
        {
          "output_type": "stream",
          "name": "stdout",
          "text": [
            "It took 9.77 mins\n",
            "{'best_valid_score': -inf, 'valid_score_bigger': True, 'best_valid_result': None, 'test_result': OrderedDict([('recall@10', 0.0849), ('mrr@10', 0.1697), ('ndcg@10', 0.0828), ('hit@10', 0.3532), ('precision@10', 0.047)])}\n",
            "CPU times: user 37min 9s, sys: 1min 15s, total: 38min 24s\n",
            "Wall time: 39min 1s\n"
          ]
        }
      ],
      "source": [
        "%%time\n",
        "model_list = ['MultiVAE', 'MultiDAE', 'MacridVAE',\n",
        "              \"NeuMF\", \"RecVAE\"]\n",
        "\n",
        "for model_name in model_list:\n",
        "    print(f\"running {model_name}...\")\n",
        "    start = time.time()\n",
        "    result = run_recbole(model=model_name, dataset = 'recbox_data', config_dict = parameter_dict)\n",
        "    t = time.time() - start\n",
        "    print(f\"It took {t/60:.2f} mins\")\n",
        "    print(result)"
      ]
    },
    {
      "cell_type": "markdown",
      "source": [
        "Прервала модель RepeatNet, очень долго выполнялось. Из остальных лучше всего показала себя MultiVAE: [('recall@10', 0.084), ('mrr@10', 0.1695), ('ndcg@10', 0.0825), ('hit@10', 0.3503), ('precision@10', 0.0467)]"
      ],
      "metadata": {
        "id": "hi8IwIuRRkEG"
      },
      "id": "hi8IwIuRRkEG"
    },
    {
      "cell_type": "code",
      "execution_count": null,
      "id": "02f721d5",
      "metadata": {
        "execution": {
          "iopub.execute_input": "2022-11-28T00:09:13.508805Z",
          "iopub.status.busy": "2022-11-28T00:09:13.508342Z",
          "iopub.status.idle": "2022-11-28T00:11:03.682512Z",
          "shell.execute_reply": "2022-11-28T00:11:03.681538Z"
        },
        "papermill": {
          "duration": 112.660326,
          "end_time": "2022-11-28T00:11:03.684802",
          "exception": false,
          "start_time": "2022-11-28T00:09:11.024476",
          "status": "completed"
        },
        "tags": [],
        "colab": {
          "base_uri": "https://localhost:8080/"
        },
        "id": "02f721d5",
        "outputId": "0a0c03b2-b62b-4deb-9456-ab54ea698d2a"
      },
      "outputs": [
        {
          "output_type": "stream",
          "name": "stderr",
          "text": [
            "WARNING:root:command line args [-f /root/.local/share/jupyter/runtime/kernel-bb8f9d95-c270-41f6-8eba-1c5f91e70170.json] will not be used in RecBole\n",
            "command line args [-f /root/.local/share/jupyter/runtime/kernel-bb8f9d95-c270-41f6-8eba-1c5f91e70170.json] will not be used in RecBole\n",
            "WARNING:root:Max value of user's history interaction records has reached 20.9471766848816% of the total.\n",
            "Max value of user's history interaction records has reached 20.9471766848816% of the total.\n",
            "Train     0: 100%|████████████████████████████████████████████████████| 7/7 [00:06<00:00,  1.13it/s]\n",
            "Train     1: 100%|████████████████████████████████████████████████████| 7/7 [00:07<00:00,  1.03s/it]\n",
            "Train     2: 100%|████████████████████████████████████████████████████| 7/7 [00:08<00:00,  1.18s/it]\n",
            "Train     3: 100%|████████████████████████████████████████████████████| 7/7 [00:09<00:00,  1.31s/it]\n",
            "Train     4: 100%|████████████████████████████████████████████████████| 7/7 [00:07<00:00,  1.01s/it]\n",
            "Train     5: 100%|████████████████████████████████████████████████████| 7/7 [00:06<00:00,  1.10it/s]\n",
            "Train     6: 100%|████████████████████████████████████████████████████| 7/7 [00:08<00:00,  1.17s/it]\n",
            "Train     7: 100%|████████████████████████████████████████████████████| 7/7 [00:06<00:00,  1.12it/s]\n",
            "Train     8: 100%|████████████████████████████████████████████████████| 7/7 [00:07<00:00,  1.03s/it]\n",
            "Train     9: 100%|████████████████████████████████████████████████████| 7/7 [00:06<00:00,  1.11it/s]\n",
            "Evaluate   : 100%|███████████████████████████████████████████| 13354/13354 [00:37<00:00, 352.83it/s]\n"
          ]
        }
      ],
      "source": [
        "result = run_recbole(model='MultiVAE', dataset = 'recbox_data', config_dict = parameter_dict)"
      ]
    },
    {
      "cell_type": "code",
      "source": [
        "result"
      ],
      "metadata": {
        "colab": {
          "base_uri": "https://localhost:8080/"
        },
        "id": "g-ateBA_SA3C",
        "outputId": "04f87d1e-840b-4504-f54e-d769d2c48088"
      },
      "id": "g-ateBA_SA3C",
      "execution_count": null,
      "outputs": [
        {
          "output_type": "execute_result",
          "data": {
            "text/plain": [
              "{'best_valid_score': -inf,\n",
              " 'valid_score_bigger': True,\n",
              " 'best_valid_result': None,\n",
              " 'test_result': OrderedDict([('recall@10', 0.084),\n",
              "              ('mrr@10', 0.1695),\n",
              "              ('ndcg@10', 0.0825),\n",
              "              ('hit@10', 0.3503),\n",
              "              ('precision@10', 0.0467)])}"
            ]
          },
          "metadata": {},
          "execution_count": 16
        }
      ]
    },
    {
      "cell_type": "markdown",
      "source": [
        "Попробуем обернуть в сервис:"
      ],
      "metadata": {
        "id": "O7FdEacQR9iW"
      },
      "id": "O7FdEacQR9iW"
    },
    {
      "cell_type": "code",
      "source": [
        "reco = {}\n",
        "\n",
        "model = MultiVAE(config, dataset)\n",
        "checkpoint = torch.load(\"/content/saved/MultiVAE-Dec-18-2023_07-43-25.pth\")\n",
        "model.load_state_dict(checkpoint[\"state_dict\"])"
      ],
      "metadata": {
        "colab": {
          "base_uri": "https://localhost:8080/"
        },
        "id": "yq7wXwtmSKA1",
        "outputId": "1d4c9d9a-ed26-468e-9648-14018d2181cd"
      },
      "id": "yq7wXwtmSKA1",
      "execution_count": null,
      "outputs": [
        {
          "output_type": "stream",
          "name": "stderr",
          "text": [
            "WARNING:root:Max value of user's history interaction records has reached 23.254401942926535% of the total.\n",
            "Max value of user's history interaction records has reached 23.254401942926535% of the total.\n"
          ]
        },
        {
          "output_type": "execute_result",
          "data": {
            "text/plain": [
              "<All keys matched successfully>"
            ]
          },
          "metadata": {},
          "execution_count": 19
        }
      ]
    },
    {
      "cell_type": "code",
      "source": [
        "def recommend_to_user(external_user_id, dataset, model):\n",
        "    if (\n",
        "        external_user_id in dataset.field2token_id[dataset.uid_field]\n",
        "        and external_user_id != \"[PAD]\"\n",
        "    ):\n",
        "        model.eval()\n",
        "        with torch.no_grad():\n",
        "            uid_series = dataset.token2id(dataset.uid_field, [external_user_id])\n",
        "            index = np.isin(dataset[dataset.uid_field].numpy(), uid_series)\n",
        "            new_inter = dataset[index]\n",
        "            new_inter = new_inter.to(config[\"device\"])\n",
        "            new_scores = model.full_sort_predict(new_inter)\n",
        "            new_scores = new_scores.view(-1, test_data.dataset.item_num)\n",
        "            new_scores[:, 0] = -np.inf\n",
        "            recommended_item_indices = torch.topk(new_scores, 10).indices[0].tolist()\n",
        "            reco = dataset.id2token(dataset.iid_field, [recommended_item_indices]).tolist()\n",
        "        return reco\n",
        "    return []"
      ],
      "metadata": {
        "id": "rCs7WMWGRig-"
      },
      "id": "rCs7WMWGRig-",
      "execution_count": null,
      "outputs": []
    },
    {
      "cell_type": "code",
      "source": [
        "from tqdm.notebook import tqdm"
      ],
      "metadata": {
        "id": "KJuru-yhVdnz"
      },
      "id": "KJuru-yhVdnz",
      "execution_count": null,
      "outputs": []
    },
    {
      "cell_type": "code",
      "source": [
        "users = dataset.field2token_id[dataset.uid_field]\n",
        "for user_id in tqdm(users):\n",
        "    recos_for_user = recommend_to_user(user_id, dataset, model)\n",
        "    if recos_for_user:\n",
        "        reco.update({user_id: recos_for_user[0]})"
      ],
      "metadata": {
        "colab": {
          "base_uri": "https://localhost:8080/",
          "height": 49,
          "referenced_widgets": [
            "b9f4eddfcff6498d87e0a0b8f2f0532c",
            "e39e601717014510ae27c0d7874219f5",
            "f77dca5b316a4128a5f36eebe05e27d4",
            "a1839774349b43e3a00e41104201f17e",
            "291da5bb44304fbdb715ec63287c8668",
            "941b68b84a834bbd8b34c8ea3e4fd958",
            "b04e9d929ff24e508f19823e05ff74fd",
            "7f9a886c0f714117878633f01f27c5d5",
            "621280d72a4241f89d53d6b660bb6dfb",
            "e9d0b5ecc68b4c1395d6d05b4580fcd4",
            "ad56cb560ba04a3087c63d9cff02eaef"
          ]
        },
        "id": "esr8VQTySQKi",
        "outputId": "8b38a2e9-ca17-402e-ea8e-7dbbcde16d98"
      },
      "id": "esr8VQTySQKi",
      "execution_count": null,
      "outputs": [
        {
          "output_type": "display_data",
          "data": {
            "text/plain": [
              "  0%|          | 0/13355 [00:00<?, ?it/s]"
            ],
            "application/vnd.jupyter.widget-view+json": {
              "version_major": 2,
              "version_minor": 0,
              "model_id": "b9f4eddfcff6498d87e0a0b8f2f0532c"
            }
          },
          "metadata": {}
        }
      ]
    },
    {
      "cell_type": "code",
      "source": [
        "with open(\"/content/MultiVAE_recos.json\", \"w\") as jf:\n",
        "    json.dump(reco, jf)"
      ],
      "metadata": {
        "id": "533gl0piSTZ3"
      },
      "id": "533gl0piSTZ3",
      "execution_count": null,
      "outputs": []
    },
    {
      "cell_type": "code",
      "source": [
        "df = pd.read_json('/content/MultiVAE_recos.json', orient='records')"
      ],
      "metadata": {
        "id": "pnWJoa-FrVBJ"
      },
      "id": "pnWJoa-FrVBJ",
      "execution_count": null,
      "outputs": []
    },
    {
      "cell_type": "code",
      "source": [
        "df = df.T"
      ],
      "metadata": {
        "id": "o-D5YoZvA1zI"
      },
      "id": "o-D5YoZvA1zI",
      "execution_count": null,
      "outputs": []
    },
    {
      "cell_type": "code",
      "source": [
        "df.to_excel('recos_recbole.xlsx')"
      ],
      "metadata": {
        "id": "txrjTinXk4uc"
      },
      "id": "txrjTinXk4uc",
      "execution_count": null,
      "outputs": []
    },
    {
      "cell_type": "code",
      "source": [],
      "metadata": {
        "id": "K9G1i6_BH-dX"
      },
      "id": "K9G1i6_BH-dX",
      "execution_count": null,
      "outputs": []
    }
  ],
  "metadata": {
    "kernelspec": {
      "display_name": "Python 3",
      "name": "python3"
    },
    "language_info": {
      "codemirror_mode": {
        "name": "ipython",
        "version": 3
      },
      "file_extension": ".py",
      "mimetype": "text/x-python",
      "name": "python",
      "nbconvert_exporter": "python",
      "pygments_lexer": "ipython3",
      "version": "3.9.12"
    },
    "papermill": {
      "default_parameters": {},
      "duration": 27491.154881,
      "end_time": "2022-11-28T00:11:27.624787",
      "environment_variables": {},
      "exception": null,
      "input_path": "__notebook__.ipynb",
      "output_path": "__notebook__.ipynb",
      "parameters": {},
      "start_time": "2022-11-27T16:33:16.469906",
      "version": "2.3.4"
    },
    "colab": {
      "provenance": []
    },
    "widgets": {
      "application/vnd.jupyter.widget-state+json": {
        "b9f4eddfcff6498d87e0a0b8f2f0532c": {
          "model_module": "@jupyter-widgets/controls",
          "model_name": "HBoxModel",
          "model_module_version": "1.5.0",
          "state": {
            "_dom_classes": [],
            "_model_module": "@jupyter-widgets/controls",
            "_model_module_version": "1.5.0",
            "_model_name": "HBoxModel",
            "_view_count": null,
            "_view_module": "@jupyter-widgets/controls",
            "_view_module_version": "1.5.0",
            "_view_name": "HBoxView",
            "box_style": "",
            "children": [
              "IPY_MODEL_e39e601717014510ae27c0d7874219f5",
              "IPY_MODEL_f77dca5b316a4128a5f36eebe05e27d4",
              "IPY_MODEL_a1839774349b43e3a00e41104201f17e"
            ],
            "layout": "IPY_MODEL_291da5bb44304fbdb715ec63287c8668"
          }
        },
        "e39e601717014510ae27c0d7874219f5": {
          "model_module": "@jupyter-widgets/controls",
          "model_name": "HTMLModel",
          "model_module_version": "1.5.0",
          "state": {
            "_dom_classes": [],
            "_model_module": "@jupyter-widgets/controls",
            "_model_module_version": "1.5.0",
            "_model_name": "HTMLModel",
            "_view_count": null,
            "_view_module": "@jupyter-widgets/controls",
            "_view_module_version": "1.5.0",
            "_view_name": "HTMLView",
            "description": "",
            "description_tooltip": null,
            "layout": "IPY_MODEL_941b68b84a834bbd8b34c8ea3e4fd958",
            "placeholder": "​",
            "style": "IPY_MODEL_b04e9d929ff24e508f19823e05ff74fd",
            "value": "100%"
          }
        },
        "f77dca5b316a4128a5f36eebe05e27d4": {
          "model_module": "@jupyter-widgets/controls",
          "model_name": "FloatProgressModel",
          "model_module_version": "1.5.0",
          "state": {
            "_dom_classes": [],
            "_model_module": "@jupyter-widgets/controls",
            "_model_module_version": "1.5.0",
            "_model_name": "FloatProgressModel",
            "_view_count": null,
            "_view_module": "@jupyter-widgets/controls",
            "_view_module_version": "1.5.0",
            "_view_name": "ProgressView",
            "bar_style": "success",
            "description": "",
            "description_tooltip": null,
            "layout": "IPY_MODEL_7f9a886c0f714117878633f01f27c5d5",
            "max": 13355,
            "min": 0,
            "orientation": "horizontal",
            "style": "IPY_MODEL_621280d72a4241f89d53d6b660bb6dfb",
            "value": 13355
          }
        },
        "a1839774349b43e3a00e41104201f17e": {
          "model_module": "@jupyter-widgets/controls",
          "model_name": "HTMLModel",
          "model_module_version": "1.5.0",
          "state": {
            "_dom_classes": [],
            "_model_module": "@jupyter-widgets/controls",
            "_model_module_version": "1.5.0",
            "_model_name": "HTMLModel",
            "_view_count": null,
            "_view_module": "@jupyter-widgets/controls",
            "_view_module_version": "1.5.0",
            "_view_name": "HTMLView",
            "description": "",
            "description_tooltip": null,
            "layout": "IPY_MODEL_e9d0b5ecc68b4c1395d6d05b4580fcd4",
            "placeholder": "​",
            "style": "IPY_MODEL_ad56cb560ba04a3087c63d9cff02eaef",
            "value": " 13355/13355 [2:23:41&lt;00:00,  1.59it/s]"
          }
        },
        "291da5bb44304fbdb715ec63287c8668": {
          "model_module": "@jupyter-widgets/base",
          "model_name": "LayoutModel",
          "model_module_version": "1.2.0",
          "state": {
            "_model_module": "@jupyter-widgets/base",
            "_model_module_version": "1.2.0",
            "_model_name": "LayoutModel",
            "_view_count": null,
            "_view_module": "@jupyter-widgets/base",
            "_view_module_version": "1.2.0",
            "_view_name": "LayoutView",
            "align_content": null,
            "align_items": null,
            "align_self": null,
            "border": null,
            "bottom": null,
            "display": null,
            "flex": null,
            "flex_flow": null,
            "grid_area": null,
            "grid_auto_columns": null,
            "grid_auto_flow": null,
            "grid_auto_rows": null,
            "grid_column": null,
            "grid_gap": null,
            "grid_row": null,
            "grid_template_areas": null,
            "grid_template_columns": null,
            "grid_template_rows": null,
            "height": null,
            "justify_content": null,
            "justify_items": null,
            "left": null,
            "margin": null,
            "max_height": null,
            "max_width": null,
            "min_height": null,
            "min_width": null,
            "object_fit": null,
            "object_position": null,
            "order": null,
            "overflow": null,
            "overflow_x": null,
            "overflow_y": null,
            "padding": null,
            "right": null,
            "top": null,
            "visibility": null,
            "width": null
          }
        },
        "941b68b84a834bbd8b34c8ea3e4fd958": {
          "model_module": "@jupyter-widgets/base",
          "model_name": "LayoutModel",
          "model_module_version": "1.2.0",
          "state": {
            "_model_module": "@jupyter-widgets/base",
            "_model_module_version": "1.2.0",
            "_model_name": "LayoutModel",
            "_view_count": null,
            "_view_module": "@jupyter-widgets/base",
            "_view_module_version": "1.2.0",
            "_view_name": "LayoutView",
            "align_content": null,
            "align_items": null,
            "align_self": null,
            "border": null,
            "bottom": null,
            "display": null,
            "flex": null,
            "flex_flow": null,
            "grid_area": null,
            "grid_auto_columns": null,
            "grid_auto_flow": null,
            "grid_auto_rows": null,
            "grid_column": null,
            "grid_gap": null,
            "grid_row": null,
            "grid_template_areas": null,
            "grid_template_columns": null,
            "grid_template_rows": null,
            "height": null,
            "justify_content": null,
            "justify_items": null,
            "left": null,
            "margin": null,
            "max_height": null,
            "max_width": null,
            "min_height": null,
            "min_width": null,
            "object_fit": null,
            "object_position": null,
            "order": null,
            "overflow": null,
            "overflow_x": null,
            "overflow_y": null,
            "padding": null,
            "right": null,
            "top": null,
            "visibility": null,
            "width": null
          }
        },
        "b04e9d929ff24e508f19823e05ff74fd": {
          "model_module": "@jupyter-widgets/controls",
          "model_name": "DescriptionStyleModel",
          "model_module_version": "1.5.0",
          "state": {
            "_model_module": "@jupyter-widgets/controls",
            "_model_module_version": "1.5.0",
            "_model_name": "DescriptionStyleModel",
            "_view_count": null,
            "_view_module": "@jupyter-widgets/base",
            "_view_module_version": "1.2.0",
            "_view_name": "StyleView",
            "description_width": ""
          }
        },
        "7f9a886c0f714117878633f01f27c5d5": {
          "model_module": "@jupyter-widgets/base",
          "model_name": "LayoutModel",
          "model_module_version": "1.2.0",
          "state": {
            "_model_module": "@jupyter-widgets/base",
            "_model_module_version": "1.2.0",
            "_model_name": "LayoutModel",
            "_view_count": null,
            "_view_module": "@jupyter-widgets/base",
            "_view_module_version": "1.2.0",
            "_view_name": "LayoutView",
            "align_content": null,
            "align_items": null,
            "align_self": null,
            "border": null,
            "bottom": null,
            "display": null,
            "flex": null,
            "flex_flow": null,
            "grid_area": null,
            "grid_auto_columns": null,
            "grid_auto_flow": null,
            "grid_auto_rows": null,
            "grid_column": null,
            "grid_gap": null,
            "grid_row": null,
            "grid_template_areas": null,
            "grid_template_columns": null,
            "grid_template_rows": null,
            "height": null,
            "justify_content": null,
            "justify_items": null,
            "left": null,
            "margin": null,
            "max_height": null,
            "max_width": null,
            "min_height": null,
            "min_width": null,
            "object_fit": null,
            "object_position": null,
            "order": null,
            "overflow": null,
            "overflow_x": null,
            "overflow_y": null,
            "padding": null,
            "right": null,
            "top": null,
            "visibility": null,
            "width": null
          }
        },
        "621280d72a4241f89d53d6b660bb6dfb": {
          "model_module": "@jupyter-widgets/controls",
          "model_name": "ProgressStyleModel",
          "model_module_version": "1.5.0",
          "state": {
            "_model_module": "@jupyter-widgets/controls",
            "_model_module_version": "1.5.0",
            "_model_name": "ProgressStyleModel",
            "_view_count": null,
            "_view_module": "@jupyter-widgets/base",
            "_view_module_version": "1.2.0",
            "_view_name": "StyleView",
            "bar_color": null,
            "description_width": ""
          }
        },
        "e9d0b5ecc68b4c1395d6d05b4580fcd4": {
          "model_module": "@jupyter-widgets/base",
          "model_name": "LayoutModel",
          "model_module_version": "1.2.0",
          "state": {
            "_model_module": "@jupyter-widgets/base",
            "_model_module_version": "1.2.0",
            "_model_name": "LayoutModel",
            "_view_count": null,
            "_view_module": "@jupyter-widgets/base",
            "_view_module_version": "1.2.0",
            "_view_name": "LayoutView",
            "align_content": null,
            "align_items": null,
            "align_self": null,
            "border": null,
            "bottom": null,
            "display": null,
            "flex": null,
            "flex_flow": null,
            "grid_area": null,
            "grid_auto_columns": null,
            "grid_auto_flow": null,
            "grid_auto_rows": null,
            "grid_column": null,
            "grid_gap": null,
            "grid_row": null,
            "grid_template_areas": null,
            "grid_template_columns": null,
            "grid_template_rows": null,
            "height": null,
            "justify_content": null,
            "justify_items": null,
            "left": null,
            "margin": null,
            "max_height": null,
            "max_width": null,
            "min_height": null,
            "min_width": null,
            "object_fit": null,
            "object_position": null,
            "order": null,
            "overflow": null,
            "overflow_x": null,
            "overflow_y": null,
            "padding": null,
            "right": null,
            "top": null,
            "visibility": null,
            "width": null
          }
        },
        "ad56cb560ba04a3087c63d9cff02eaef": {
          "model_module": "@jupyter-widgets/controls",
          "model_name": "DescriptionStyleModel",
          "model_module_version": "1.5.0",
          "state": {
            "_model_module": "@jupyter-widgets/controls",
            "_model_module_version": "1.5.0",
            "_model_name": "DescriptionStyleModel",
            "_view_count": null,
            "_view_module": "@jupyter-widgets/base",
            "_view_module_version": "1.2.0",
            "_view_name": "StyleView",
            "description_width": ""
          }
        }
      }
    }
  },
  "nbformat": 4,
  "nbformat_minor": 5
}